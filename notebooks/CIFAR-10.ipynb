{
 "cells": [
  {
   "cell_type": "code",
   "execution_count": 1,
   "metadata": {},
   "outputs": [],
   "source": [
    "import tqdm\n",
    "import math\n",
    "import numpy as np\n",
    "import pandas as pd\n",
    "import matplotlib.pyplot as plt\n",
    "# PyTorch\n",
    "import torch\n",
    "import torchvision"
   ]
  },
  {
   "cell_type": "code",
   "execution_count": 2,
   "metadata": {},
   "outputs": [],
   "source": [
    "import sys\n",
    "sys.path.append('../src/')\n",
    "\n",
    "%load_ext autoreload\n",
    "%autoreload 2\n",
    "# Importing our custom module(s)\n",
    "import layers\n",
    "import losses\n",
    "import utils"
   ]
  },
  {
   "cell_type": "code",
   "execution_count": 3,
   "metadata": {},
   "outputs": [],
   "source": [
    "n = 100\n",
    "random_state = 1001\n",
    "encoded_path = f'/cluster/tufts/hugheslab/eharve06/understanding-SNGP/data/CIFAR-10_n={n}_random_state={random_state}.npz'\n",
    "data = np.load(encoded_path)\n",
    "X_train = torch.tensor(data['X_train'], dtype=torch.float32)\n",
    "y_train = torch.tensor(data['y_train'], dtype=torch.long)\n",
    "X_val = torch.tensor(data['X_val'], dtype=torch.float32)\n",
    "y_val = torch.tensor(data['y_val'], dtype=torch.long)\n",
    "X_train_and_val = torch.cat((X_train, X_val), dim=0)\n",
    "y_train_and_val = torch.cat((y_train, y_val), dim=0)\n",
    "X_test = torch.tensor(data['X_test'], dtype=torch.float32)\n",
    "y_test = torch.tensor(data['y_test'], dtype=torch.long)"
   ]
  },
  {
   "cell_type": "code",
   "execution_count": 4,
   "metadata": {},
   "outputs": [],
   "source": [
    "train_dataset = torch.utils.data.TensorDataset(X_train, y_train)\n",
    "val_dataset = torch.utils.data.TensorDataset(X_val, y_val)\n",
    "train_and_val_dataset = torch.utils.data.TensorDataset(X_train_and_val, y_train_and_val)\n",
    "test_dataset = torch.utils.data.TensorDataset(X_test, y_test)"
   ]
  },
  {
   "cell_type": "code",
   "execution_count": 5,
   "metadata": {},
   "outputs": [],
   "source": [
    "batch_size = 128\n",
    "train_loader = torch.utils.data.DataLoader(train_dataset, batch_size=min(batch_size, len(train_dataset)), shuffle=True, drop_last=True)\n",
    "train_and_val_loader = torch.utils.data.DataLoader(train_and_val_dataset, batch_size=min(batch_size, len(train_dataset)), shuffle=True, drop_last=True)\n",
    "val_loader = torch.utils.data.DataLoader(val_dataset, batch_size=len(val_dataset))\n",
    "test_loader = torch.utils.data.DataLoader(test_dataset, batch_size=len(test_dataset))"
   ]
  },
  {
   "cell_type": "code",
   "execution_count": 13,
   "metadata": {},
   "outputs": [
    {
     "name": "stderr",
     "output_type": "stream",
     "text": [
      "100%|██████████| 6000/6000 [00:49<00:00, 122.33it/s]\n"
     ]
    }
   ],
   "source": [
    "lr_0 = 1e-2\n",
    "model = torch.nn.Module()\n",
    "model.sigma_param = torch.nn.Parameter(torch.log(torch.expm1(torch.tensor(1e-4))))\n",
    "model = layers.VariationalLinear(torch.nn.Linear(in_features=2048, out_features=10, bias=True), model.sigma_param)\n",
    "\n",
    "d = len(utils.flatten_params(model))\n",
    "criterion = losses.DataEmphasizedELBo(d/len(train_dataset), model.sigma_param, criterion=torch.nn.CrossEntropyLoss())\n",
    "optimizer = torch.optim.SGD(model.parameters(), weight_decay=0.0, lr=lr_0, momentum=0.9, nesterov=True)\n",
    "\n",
    "steps = 6000\n",
    "num_batches = len(train_loader)\n",
    "epochs = int(steps/num_batches)\n",
    "scheduler = torch.optim.lr_scheduler.CosineAnnealingLR(optimizer, T_max=epochs*num_batches)\n",
    "\n",
    "columns = ['epoch', 'train_acc', 'train_loss', 'train_nll', 'test_acc', 'test_loss', 'test_nll', 'val_acc', 'val_loss', 'val_nll']\n",
    "model_history_df = pd.DataFrame(columns=columns)\n",
    "\n",
    "for epoch in tqdm.tqdm(range(epochs)):\n",
    "    train_metrics = utils.train_one_epoch(model, criterion, optimizer, train_and_val_loader, scheduler)\n",
    "    #train_metrics = utils.train_one_epoch(model, criterion, optimizer, train_loader)\n",
    "    val_metrics = {'acc': 0.0, 'loss': 0.0, 'nll': 0.0}\n",
    "    test_metrics = {'acc': 0.0, 'loss': 0.0, 'nll': 0.0}\n",
    "\n",
    "    if epoch == epochs-1:\n",
    "        test_metrics = utils.evaluate(model, criterion, test_loader)\n",
    "        val_metrics = utils.evaluate(model, criterion, val_loader)\n",
    "\n",
    "    row = [epoch, train_metrics['acc'], train_metrics['loss'], train_metrics['nll'], test_metrics['acc'], test_metrics['loss'], test_metrics['nll'], val_metrics['acc'], val_metrics['loss'], val_metrics['nll']]\n",
    "    model_history_df.loc[epoch] = row\n",
    "    #print(model_history_df.iloc[epoch])\n",
    "    "
   ]
  },
  {
   "cell_type": "code",
   "execution_count": 14,
   "metadata": {},
   "outputs": [
    {
     "data": {
      "image/png": "[encoded data removed]",
      "text/plain": [
       "<Figure size 400x300 with 1 Axes>"
      ]
     },
     "metadata": {},
     "output_type": "display_data"
    }
   ],
   "source": [
    "ncols, nrows = 1, 1\n",
    "fig, ax = plt.subplots(figsize=(4*ncols, 3*nrows), ncols=ncols, nrows=nrows, sharex=True, sharey='row')\n",
    "ax.plot(model_history_df.epoch, model_history_df.train_loss)\n",
    "ax.set_yscale('log')\n",
    "ax.set_xlabel('epochs')\n",
    "ax.set_ylabel('Train loss')\n",
    "fig.tight_layout()\n",
    "plt.show()"
   ]
  },
  {
   "cell_type": "code",
   "execution_count": 8,
   "metadata": {},
   "outputs": [
    {
     "name": "stdout",
     "output_type": "stream",
     "text": [
      "Train loss: 1739.2196044921875\n",
      "Test acc: 0.6830999851226807\n",
      "Test nll: 4.274302959442139\n"
     ]
    }
   ],
   "source": [
    "print(f'Train loss: {model_history_df.iloc[-1].train_loss}')\n",
    "print(f'Test acc: {model_history_df.iloc[-1].test_acc}')\n",
    "print(f'Test nll: {model_history_df.iloc[-1].test_nll}')"
   ]
  },
  {
   "cell_type": "code",
   "execution_count": 9,
   "metadata": {},
   "outputs": [
    {
     "name": "stderr",
     "output_type": "stream",
     "text": [
      "100%|██████████| 6000/6000 [03:32<00:00, 28.29it/s]\n"
     ]
    }
   ],
   "source": [
    "lr_0 = 1e-1\n",
    "model = layers.RandomFeatureGaussianProcess(in_features=2048, out_features=10, rank=2048)\n",
    "model.sigma_param = torch.nn.Parameter(torch.log(torch.expm1(torch.tensor(1e-4))))\n",
    "setattr(model, 'linear', layers.VariationalLinear(model.linear, model.sigma_param))\n",
    "\n",
    "model.lengthscale = torch.nn.Parameter(torch.log(torch.expm1(torch.tensor(math.sqrt(20)))))\n",
    "torch.nn.utils.parametrize.register_parametrization(model, 'lengthscale', torch.nn.Softplus())\n",
    "model.outputscale = torch.nn.Parameter(torch.log(torch.expm1(torch.tensor(1.0))))\n",
    "torch.nn.utils.parametrize.register_parametrization(model, 'outputscale', torch.nn.Softplus())\n",
    "\n",
    "d = len(utils.flatten_params(model))\n",
    "criterion = losses.DataEmphasizedELBo(d/len(train_dataset), model.sigma_param, criterion=torch.nn.CrossEntropyLoss())\n",
    "optimizer = torch.optim.SGD(model.parameters(), weight_decay=0.0, lr=lr_0, momentum=0.9, nesterov=True)\n",
    "\n",
    "\n",
    "steps = 6000\n",
    "num_batches = len(train_loader)\n",
    "epochs = int(steps/num_batches)\n",
    "scheduler = torch.optim.lr_scheduler.CosineAnnealingLR(optimizer, T_max=epochs*num_batches)\n",
    "\n",
    "columns = ['epoch', 'train_acc', 'train_loss', 'train_nll', 'test_acc', 'test_loss', 'test_nll', 'val_acc', 'val_loss', 'val_nll']\n",
    "model_history_df = pd.DataFrame(columns=columns)\n",
    "\n",
    "for epoch in tqdm.tqdm(range(epochs)):\n",
    "    train_metrics = utils.train_one_epoch(model, criterion, optimizer, train_and_val_loader, scheduler)\n",
    "    #train_metrics = utils.train_one_epoch(model, criterion, optimizer, train_loader)\n",
    "    val_metrics = {'acc': 0.0, 'loss': 0.0, 'nll': 0.0}\n",
    "    test_metrics = {'acc': 0.0, 'loss': 0.0, 'nll': 0.0}\n",
    "\n",
    "    if epoch == epochs-1:\n",
    "        test_metrics = utils.evaluate(model, criterion, test_loader)\n",
    "        val_metrics = utils.evaluate(model, criterion, val_loader)\n",
    "\n",
    "    row = [epoch, train_metrics['acc'], train_metrics['loss'], train_metrics['nll'], test_metrics['acc'], test_metrics['loss'], test_metrics['nll'], val_metrics['acc'], val_metrics['loss'], val_metrics['nll']]\n",
    "    model_history_df.loc[epoch] = row\n",
    "    #print(model_history_df.iloc[epoch])\n",
    "    "
   ]
  },
  {
   "cell_type": "code",
   "execution_count": 10,
   "metadata": {},
   "outputs": [
    {
     "name": "stdout",
     "output_type": "stream",
     "text": [
      "Lengthscale: 3.3810713291168213\n",
      "Outputscale: 6.416886329650879\n"
     ]
    }
   ],
   "source": [
    "print(f'Lengthscale: {model.lengthscale}')\n",
    "print(f'Outputscale: {model.outputscale}')"
   ]
  },
  {
   "cell_type": "code",
   "execution_count": 11,
   "metadata": {},
   "outputs": [
    {
     "data": {
      "image/png": "[encoded data removed]",
      "text/plain": [
       "<Figure size 400x300 with 1 Axes>"
      ]
     },
     "metadata": {},
     "output_type": "display_data"
    }
   ],
   "source": [
    "ncols, nrows = 1, 1\n",
    "fig, ax = plt.subplots(figsize=(4*ncols, 3*nrows), ncols=ncols, nrows=nrows, sharex=True, sharey='row')\n",
    "ax.plot(model_history_df.epoch, model_history_df.train_loss)\n",
    "ax.set_yscale('log')\n",
    "ax.set_xlabel('epochs')\n",
    "ax.set_ylabel('Train loss')\n",
    "fig.tight_layout()\n",
    "plt.show()"
   ]
  },
  {
   "cell_type": "code",
   "execution_count": 12,
   "metadata": {},
   "outputs": [
    {
     "name": "stdout",
     "output_type": "stream",
     "text": [
      "Train loss: 1128.415771484375\n",
      "Test acc: 0.6524999737739563\n",
      "Test nll: 1.6188340187072754\n"
     ]
    }
   ],
   "source": [
    "print(f'Train loss: {model_history_df.iloc[-1].train_loss}')\n",
    "print(f'Test acc: {model_history_df.iloc[-1].test_acc}')\n",
    "print(f'Test nll: {model_history_df.iloc[-1].test_nll}')"
   ]
  },
  {
   "cell_type": "code",
   "execution_count": null,
   "metadata": {},
   "outputs": [],
   "source": []
  }
 ],
 "metadata": {
  "kernelspec": {
   "display_name": "l3d_2024f_cuda12_1",
   "language": "python",
   "name": "l3d_2024f_cuda12_1"
  },
  "language_info": {
   "codemirror_mode": {
    "name": "ipython",
    "version": 3
   },
   "file_extension": ".py",
   "mimetype": "text/x-python",
   "name": "python",
   "nbconvert_exporter": "python",
   "pygments_lexer": "ipython3",
   "version": "3.12.5"
  }
 },
 "nbformat": 4,
 "nbformat_minor": 2
}
